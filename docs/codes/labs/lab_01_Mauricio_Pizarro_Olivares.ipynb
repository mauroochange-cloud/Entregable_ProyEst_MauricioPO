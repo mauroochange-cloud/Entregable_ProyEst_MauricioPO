{
  "cells": [
    {
      "cell_type": "markdown",
      "id": "e2696553",
      "metadata": {
        "id": "e2696553"
      },
      "source": [
        "<a href=\"https://colab.research.google.com/github/fralfaro/MAT306/blob/main/docs/labs/lab_01.ipynb\" target=\"_parent\"><img src=\"https://colab.research.google.com/assets/colab-badge.svg\" alt=\"Open In Colab\"/></a>\n",
        "\n",
        "\n",
        "# MAT306 - Laboratorio N°01\n",
        "\n",
        "\n",
        "**Objetivos del Laboratorio**\n",
        "\n",
        "* Implementar funciones en Python para resolver problemas matemáticos clásicos.\n",
        "* Aplicar estructuras básicas como ciclos y condicionales en contextos numéricos.\n",
        "* Comprender y programar conceptos como series, factoriales, divisores, primos y secuencias.\n",
        "* Desarrollar pensamiento algorítmico y habilidades de resolución estructurada de problemas.\n"
      ]
    },
    {
      "cell_type": "markdown",
      "id": "a869ace0",
      "metadata": {
        "id": "a869ace0"
      },
      "source": [
        "## Problema 01 — Aproximando $\\pi$ con una serie infinita\n",
        "\n",
        "En los siglos XVII y XVIII, los matemáticos **James Gregory** y **Gottfried Leibniz** descubrieron una serie infinita que permite aproximar el valor de $\\pi$. Esta serie, conocida como la *serie de Gregory-Leibniz*, se expresa como:\n",
        "\n",
        "$$\n",
        "\\pi = 4 \\sum_{k=1}^{\\infty} \\frac{(-1)^{k+1}}{2k - 1} = 4\\left(1 - \\frac{1}{3} + \\frac{1}{5} - \\frac{1}{7} + \\cdots\\right)\n",
        "$$\n",
        "\n",
        "Esta fórmula converge lentamente, pero es útil para entender cómo se puede aproximar un número irracional como $\\pi$ mediante una suma finita.\n",
        "\n",
        "**Tu tarea**\n",
        "\n",
        "Implementa una **función llamada `calcular_pi(n)`** que reciba como argumento un número entero $n$ e **importe los primeros $n$ términos de la serie** para entregar una aproximación del valor de $\\pi$.\n",
        "\n",
        "\n",
        "\n",
        "\n",
        "\n",
        "**Ejemplos de uso**\n",
        "\n",
        "```python\n",
        "calcular_pi(3)     # Resultado esperado: 3.466666...\n",
        "calcular_pi(1000)  # Resultado esperado: ~3.140592...\n",
        "```\n",
        "\n"
      ]
    },
    {
      "cell_type": "code",
      "execution_count": 2,
      "id": "dd54e855",
      "metadata": {
        "id": "dd54e855"
      },
      "outputs": [],
      "source": [
        "def calcular_pi(n):\n",
        "  pi=0\n",
        "  for k in range(1,n+1):\n",
        "    numerador  = (-1)**(k+1)\n",
        "    denominador = 2*k - 1\n",
        "    pi += 4*(numerador/denominador)\n",
        "  return pi\n"
      ]
    },
    {
      "cell_type": "code",
      "source": [
        "calcular_pi(3)"
      ],
      "metadata": {
        "colab": {
          "base_uri": "https://localhost:8080/"
        },
        "id": "bGC50kWa5c3H",
        "outputId": "f8bef102-7bc5-4bf9-dcbc-0ebc5f3a782e"
      },
      "id": "bGC50kWa5c3H",
      "execution_count": 6,
      "outputs": [
        {
          "output_type": "execute_result",
          "data": {
            "text/plain": [
              "3.466666666666667"
            ]
          },
          "metadata": {},
          "execution_count": 6
        }
      ]
    },
    {
      "cell_type": "code",
      "source": [
        "calcular_pi(1000)"
      ],
      "metadata": {
        "colab": {
          "base_uri": "https://localhost:8080/"
        },
        "id": "o9UrX7n1ZyCE",
        "outputId": "85a42226-3427-400c-8bc3-1ccf28e7eb50"
      },
      "id": "o9UrX7n1ZyCE",
      "execution_count": 7,
      "outputs": [
        {
          "output_type": "execute_result",
          "data": {
            "text/plain": [
              "3.140592653839794"
            ]
          },
          "metadata": {},
          "execution_count": 7
        }
      ]
    },
    {
      "cell_type": "markdown",
      "id": "c26be634",
      "metadata": {
        "id": "c26be634"
      },
      "source": [
        "\n",
        "## Problema 02 — Aproximando $e$ con la serie de Euler\n",
        "\n",
        "El número **$e$** es una constante matemática fundamental, al igual que $\\pi$. Se encuentra en el corazón del cálculo, el crecimiento exponencial y muchas aplicaciones científicas. Uno de sus grandes impulsores fue **Leonhard Euler**, quien en 1748 publicó su obra *Introductio in analysin infinitorum*, donde describió formalmente la siguiente serie infinita para aproximar su valor:\n",
        "\n",
        "$$\n",
        "e = \\sum_{k=0}^{\\infty} \\frac{1}{k!} = 1 + \\frac{1}{1!} + \\frac{1}{2!} + \\frac{1}{3!} + \\cdots\n",
        "$$\n",
        "\n",
        "Esta fórmula permite calcular $e$ sumando una cantidad finita de términos.\n",
        "\n",
        "\n",
        "\n",
        "**Tu tarea**\n",
        "\n",
        "1. **Parte A**: Define una función llamada `factorial(n)` que reciba un número natural $n$ y retorne el valor de su factorial $n! = 1 \\cdot 2 \\cdot \\ldots \\cdot n$.\n",
        "\n",
        "2. **Parte B**: Usando esa función, crea otra función llamada `calcular_e(n)` que reciba un número entero $n$ y devuelva una aproximación del número $e$ sumando los primeros $n$ términos de la serie.\n",
        "\n",
        "\n",
        "\n",
        "**Ejemplos de uso**\n",
        "\n",
        "```python\n",
        "factorial(3)     # Resultado esperado: 6\n",
        "factorial(5)     # Resultado esperado: 120\n",
        "\n",
        "calcular_e(3)     # Resultado esperado: 2.666...\n",
        "calcular_e(1000)  # Resultado esperado: ~2.718281828...\n",
        "```\n",
        "\n"
      ]
    },
    {
      "cell_type": "code",
      "execution_count": 8,
      "id": "706d4c0a",
      "metadata": {
        "id": "706d4c0a"
      },
      "outputs": [],
      "source": [
        "def factorial(n):\n",
        "  fact=1\n",
        "  if n==0:\n",
        "    return 1\n",
        "  else:\n",
        "    for i in range(1, n+1):\n",
        "      fact *= i\n",
        "  return fact"
      ]
    },
    {
      "cell_type": "code",
      "source": [
        "factorial(3)"
      ],
      "metadata": {
        "colab": {
          "base_uri": "https://localhost:8080/"
        },
        "id": "0lgldMpn-VPR",
        "outputId": "ac319455-fb65-4850-9513-95f5ffbc479d"
      },
      "id": "0lgldMpn-VPR",
      "execution_count": 9,
      "outputs": [
        {
          "output_type": "execute_result",
          "data": {
            "text/plain": [
              "6"
            ]
          },
          "metadata": {},
          "execution_count": 9
        }
      ]
    },
    {
      "cell_type": "code",
      "source": [
        "factorial(5)"
      ],
      "metadata": {
        "colab": {
          "base_uri": "https://localhost:8080/"
        },
        "id": "Uze3d_SbZ3jg",
        "outputId": "73e5d35f-b0f9-44b7-df4d-f835c7a883c5"
      },
      "id": "Uze3d_SbZ3jg",
      "execution_count": 10,
      "outputs": [
        {
          "output_type": "execute_result",
          "data": {
            "text/plain": [
              "120"
            ]
          },
          "metadata": {},
          "execution_count": 10
        }
      ]
    },
    {
      "cell_type": "code",
      "source": [
        "def calcular_e(n):\n",
        "  e=0\n",
        "  for k in range(0,n+1):\n",
        "    e += 1/factorial(k)\n",
        "  return e"
      ],
      "metadata": {
        "id": "lF67tYa58mb1"
      },
      "id": "lF67tYa58mb1",
      "execution_count": 11,
      "outputs": []
    },
    {
      "cell_type": "code",
      "source": [
        "calcular_e(3)"
      ],
      "metadata": {
        "colab": {
          "base_uri": "https://localhost:8080/"
        },
        "id": "jZMcVUho-hPN",
        "outputId": "9e565f80-557a-4046-a0d6-26c9e49512be"
      },
      "id": "jZMcVUho-hPN",
      "execution_count": 12,
      "outputs": [
        {
          "output_type": "execute_result",
          "data": {
            "text/plain": [
              "2.6666666666666665"
            ]
          },
          "metadata": {},
          "execution_count": 12
        }
      ]
    },
    {
      "cell_type": "code",
      "source": [
        "calcular_e(1000)"
      ],
      "metadata": {
        "colab": {
          "base_uri": "https://localhost:8080/"
        },
        "id": "KuD0tYt3-oC4",
        "outputId": "c1bc8478-c485-4553-e069-d88f89e5077e"
      },
      "id": "KuD0tYt3-oC4",
      "execution_count": 13,
      "outputs": [
        {
          "output_type": "execute_result",
          "data": {
            "text/plain": [
              "2.7182818284590455"
            ]
          },
          "metadata": {},
          "execution_count": 13
        }
      ]
    },
    {
      "cell_type": "markdown",
      "id": "9707be93",
      "metadata": {
        "id": "9707be93"
      },
      "source": [
        "## Problema 03 — Números amigos y suma de divisores propios\n",
        "\n",
        "Dado un número natural $n$, se define $\\sigma(n)$ como la **suma de sus divisores propios**, es decir, aquellos números positivos menores que $n$ que lo dividen exactamente.\n",
        "\n",
        "Dos números naturales $n_1$ y $n_2$ se consideran **números amigos** si cumplen la siguiente condición:\n",
        "\n",
        "$$\n",
        "\\sigma(n_1) = n_2 \\quad \\text{y} \\quad \\sigma(n_2) = n_1\n",
        "$$\n",
        "\n",
        "Un ejemplo clásico de números amigos es el par $220$ y $284$:\n",
        "\n",
        "* Los divisores propios de $220$ son: $1, 2, 4, 5, 10, 11, 20, 22, 44, 55, 110$, y su suma es $284$.\n",
        "* Los divisores propios de $284$ son: $1, 2, 4, 71, 142$, y su suma es $220$.\n",
        "\n",
        "**Tu tarea**\n",
        "\n",
        "1. **Parte A**: Define una función llamada `divisores_propios(n)` que reciba un número natural $n$ y retorne una **lista** con todos sus divisores propios.\n",
        "\n",
        "2. **Parte B**: Usando esa función, implementa una función llamada `amigos(n1, n2)` que retorne `True` si los números son amigos y `False` en caso contrario.\n",
        "\n",
        "**Ejemplos de uso**\n",
        "\n",
        "```python\n",
        "divisores_propios(220)  # Resultado esperado: [1, 2, 4, 5, 10, 11, 20, 22, 44, 55, 110]\n",
        "divisores_propios(284)  # Resultado esperado: [1, 2, 4, 71, 142]\n",
        "\n",
        "amigos(220, 284)        # Resultado esperado: True\n",
        "amigos(6, 5)            # Resultado esperado: False\n",
        "```\n"
      ]
    },
    {
      "cell_type": "code",
      "execution_count": 14,
      "id": "e695ea21",
      "metadata": {
        "id": "e695ea21"
      },
      "outputs": [],
      "source": [
        "def divisores_propios(n):\n",
        "  divisores=[]\n",
        "  if n==0:\n",
        "    print(\"El cero no tiene divisores propios\")\n",
        "    return\n",
        "  for k in range(1,n):\n",
        "    if n%k==0:\n",
        "      divisores.append(k)\n",
        "  return divisores"
      ]
    },
    {
      "cell_type": "code",
      "source": [
        "divisores_propios(220)"
      ],
      "metadata": {
        "colab": {
          "base_uri": "https://localhost:8080/"
        },
        "id": "m-_-yGgV9AoQ",
        "outputId": "96cb4b1b-9135-404e-ebdb-d2f5d57c6072"
      },
      "id": "m-_-yGgV9AoQ",
      "execution_count": 15,
      "outputs": [
        {
          "output_type": "execute_result",
          "data": {
            "text/plain": [
              "[1, 2, 4, 5, 10, 11, 20, 22, 44, 55, 110]"
            ]
          },
          "metadata": {},
          "execution_count": 15
        }
      ]
    },
    {
      "cell_type": "code",
      "source": [
        "divisores_propios(0)"
      ],
      "metadata": {
        "colab": {
          "base_uri": "https://localhost:8080/"
        },
        "id": "j5Q2E8kp9Vza",
        "outputId": "2ea98fe8-81fc-4780-9e1b-4f595e5cd931"
      },
      "id": "j5Q2E8kp9Vza",
      "execution_count": 16,
      "outputs": [
        {
          "output_type": "stream",
          "name": "stdout",
          "text": [
            "El cero no tiene divisores propios\n"
          ]
        }
      ]
    },
    {
      "cell_type": "code",
      "source": [
        "divisores_propios(284)"
      ],
      "metadata": {
        "colab": {
          "base_uri": "https://localhost:8080/"
        },
        "id": "AeGGLoN69XP7",
        "outputId": "098262ae-8bb1-40e9-9c48-aefc19b2109b"
      },
      "id": "AeGGLoN69XP7",
      "execution_count": 17,
      "outputs": [
        {
          "output_type": "execute_result",
          "data": {
            "text/plain": [
              "[1, 2, 4, 71, 142]"
            ]
          },
          "metadata": {},
          "execution_count": 17
        }
      ]
    },
    {
      "cell_type": "code",
      "source": [
        "def amigos(n1,n2):\n",
        "  if sum(divisores_propios(n1))==n2 and sum(divisores_propios(n2))==n1:\n",
        "    return True\n",
        "  else:\n",
        "    return False"
      ],
      "metadata": {
        "id": "bwNWWuLZ9egW"
      },
      "id": "bwNWWuLZ9egW",
      "execution_count": 18,
      "outputs": []
    },
    {
      "cell_type": "code",
      "source": [
        "amigos(220, 284)"
      ],
      "metadata": {
        "colab": {
          "base_uri": "https://localhost:8080/"
        },
        "id": "TkyPAyHj-AYu",
        "outputId": "03bcac1a-ab70-4497-cf6c-56144fbfa17a"
      },
      "id": "TkyPAyHj-AYu",
      "execution_count": 19,
      "outputs": [
        {
          "output_type": "execute_result",
          "data": {
            "text/plain": [
              "True"
            ]
          },
          "metadata": {},
          "execution_count": 19
        }
      ]
    },
    {
      "cell_type": "code",
      "source": [
        "amigos(6, 5)"
      ],
      "metadata": {
        "colab": {
          "base_uri": "https://localhost:8080/"
        },
        "id": "ceEZ-O0t-Cc4",
        "outputId": "7ac4645a-9cdc-43c2-be47-69ad77e1eb32"
      },
      "id": "ceEZ-O0t-Cc4",
      "execution_count": 20,
      "outputs": [
        {
          "output_type": "execute_result",
          "data": {
            "text/plain": [
              "False"
            ]
          },
          "metadata": {},
          "execution_count": 20
        }
      ]
    },
    {
      "cell_type": "markdown",
      "id": "cf93a039",
      "metadata": {
        "id": "cf93a039"
      },
      "source": [
        "## Problema 04 — La conjetura de Collatz\n",
        "\n",
        "La [conjetura de Collatz](https://en.wikipedia.org/wiki/Collatz_conjecture), también conocida como **conjetura $3n + 1$** o conjetura de Ulam, fue formulada por el matemático **Lothar Collatz** en 1937. A pesar de su sencillez, aún no ha sido demostrada ni refutada para todos los números naturales.\n",
        "\n",
        "La conjetura propone la siguiente regla, aplicable a cualquier número entero positivo:\n",
        "\n",
        "* Si el número es **par**, se divide por 2.\n",
        "* Si el número es **impar**, se multiplica por 3 y se le suma 1.\n",
        "\n",
        "Se repite esta operación con cada nuevo número obtenido. La conjetura afirma que, sin importar el número con el que se comience, **eventualmente se alcanzará el número 1**.\n",
        "\n",
        "**Tu tarea**\n",
        "\n",
        "Implementa una función llamada `collatz(n)` que reciba como argumento un número natural positivo $n$ y retorne una **lista con la secuencia de valores** generados por la conjetura, hasta llegar a 1.\n",
        "\n",
        "**Ejemplo de uso**\n",
        "\n",
        "```python\n",
        "collatz(9)  \n",
        "# Resultado esperado:\n",
        "# [9, 28, 14, 7, 22, 11, 34, 17, 52, 26, 13, 40, 20, 10, 5, 16, 8, 4, 2, 1]\n",
        "```\n",
        "\n"
      ]
    },
    {
      "cell_type": "code",
      "execution_count": 21,
      "id": "10501a00",
      "metadata": {
        "id": "10501a00"
      },
      "outputs": [],
      "source": [
        "def collatz(n):\n",
        "  secuencia=[n]\n",
        "  while n!=1:\n",
        "    if n%2==0:\n",
        "      n=n//2\n",
        "      secuencia.append(int(n))\n",
        "    else:\n",
        "      n=3*n+1\n",
        "      secuencia.append(int(n))\n",
        "  return secuencia\n",
        "\n"
      ]
    },
    {
      "cell_type": "code",
      "source": [
        "collatz(9)"
      ],
      "metadata": {
        "colab": {
          "base_uri": "https://localhost:8080/"
        },
        "id": "VoURVTBJHryo",
        "outputId": "e19173f7-b547-4ea3-d888-5c71e1cabf2d"
      },
      "id": "VoURVTBJHryo",
      "execution_count": 22,
      "outputs": [
        {
          "output_type": "execute_result",
          "data": {
            "text/plain": [
              "[9, 28, 14, 7, 22, 11, 34, 17, 52, 26, 13, 40, 20, 10, 5, 16, 8, 4, 2, 1]"
            ]
          },
          "metadata": {},
          "execution_count": 22
        }
      ]
    },
    {
      "cell_type": "markdown",
      "id": "d15af4eb",
      "metadata": {
        "id": "d15af4eb"
      },
      "source": [
        "## Problema 05 — La conjetura de Goldbach\n",
        "\n",
        "La [conjetura de Goldbach](https://en.wikipedia.org/wiki/Goldbach%27s_conjecture) es uno de los problemas abiertos más antiguos y famosos de la teoría de números. Fue formulada por el matemático prusiano **Christian Goldbach** en una carta a Euler en 1742, y plantea lo siguiente:\n",
        "\n",
        "> **Todo número par mayor que 2 puede escribirse como la suma de dos números primos.**\n",
        "\n",
        "A pesar de que esta conjetura ha sido verificada para una gran cantidad de números, aún no existe una demostración formal que la confirme para todos los casos posibles.\n",
        "\n",
        "**Tu tarea**\n",
        "\n",
        "Implementa una función llamada `goldbach(n)` que reciba un número natural par mayor que 2 y retorne un par de números primos $n_1$ y $n_2$ tales que $n_1 + n_2 = n$.\n",
        "\n",
        "Para lograrlo, se recomienda dividir el problema en tres partes:\n",
        "\n",
        "1. **Parte A**: Define una función `es_primo(n)` que reciba un número natural $n$ y retorne `True` si es primo, y `False` en caso contrario.\n",
        "\n",
        "2. **Parte B**: Define una función `lista_de_primos(n)` que genere una lista con todos los números primos entre 2 y $n$ (inclusive si corresponde).\n",
        "\n",
        "3. **Parte C**: Utiliza la función anterior dentro de `goldbach(n)` para encontrar dos primos cuya suma sea igual a $n$. Puedes retornar el primer par que cumpla esta condición.\n",
        "\n",
        "**Ejemplos de uso**\n",
        "\n",
        "```python\n",
        "es_primo(3)         # Resultado esperado: True\n",
        "es_primo(4)         # Resultado esperado: False\n",
        "\n",
        "lista_de_primos(4)  # Resultado esperado: [2, 3]\n",
        "lista_de_primos(6)  # Resultado esperado: [2, 3, 5]\n",
        "lista_de_primos(8)  # Resultado esperado: [2, 3, 5, 7]\n",
        "\n",
        "goldbach(4)         # Resultado esperado: (2, 2)\n",
        "goldbach(6)         # Resultado esperado: (3, 3)\n",
        "goldbach(8)         # Resultado esperado: (3, 5)\n",
        "```\n",
        "\n",
        "\n"
      ]
    },
    {
      "cell_type": "code",
      "execution_count": 23,
      "id": "cccb4ae0",
      "metadata": {
        "id": "cccb4ae0"
      },
      "outputs": [],
      "source": [
        "def es_primo(n):\n",
        "  for k in range(2,n):\n",
        "    if n%k==0:\n",
        "      return False\n",
        "  return True"
      ]
    },
    {
      "cell_type": "code",
      "source": [
        "es_primo(3)"
      ],
      "metadata": {
        "colab": {
          "base_uri": "https://localhost:8080/"
        },
        "id": "kY_loOQXL9r2",
        "outputId": "07828c33-058c-4af5-8859-9adbb7fb4006"
      },
      "id": "kY_loOQXL9r2",
      "execution_count": 24,
      "outputs": [
        {
          "output_type": "execute_result",
          "data": {
            "text/plain": [
              "True"
            ]
          },
          "metadata": {},
          "execution_count": 24
        }
      ]
    },
    {
      "cell_type": "code",
      "source": [
        "es_primo(4)"
      ],
      "metadata": {
        "colab": {
          "base_uri": "https://localhost:8080/"
        },
        "id": "xiKNxAYFL_5y",
        "outputId": "0c8b2866-a40d-4116-bbe5-b3291f5a1e78"
      },
      "id": "xiKNxAYFL_5y",
      "execution_count": 25,
      "outputs": [
        {
          "output_type": "execute_result",
          "data": {
            "text/plain": [
              "False"
            ]
          },
          "metadata": {},
          "execution_count": 25
        }
      ]
    },
    {
      "cell_type": "code",
      "source": [
        "def lista_de_primos(n):\n",
        "  primos=[]\n",
        "  for k in range(2,n+1):\n",
        "    if es_primo(k):\n",
        "      primos.append(k)\n",
        "  return primos"
      ],
      "metadata": {
        "id": "7s8vndZKMqzP"
      },
      "id": "7s8vndZKMqzP",
      "execution_count": 26,
      "outputs": []
    },
    {
      "cell_type": "code",
      "source": [
        "lista_de_primos(4)"
      ],
      "metadata": {
        "colab": {
          "base_uri": "https://localhost:8080/"
        },
        "id": "NRlx-asmMrs1",
        "outputId": "de3b96c8-936f-4b17-feab-dd97dbb61ddc"
      },
      "id": "NRlx-asmMrs1",
      "execution_count": 27,
      "outputs": [
        {
          "output_type": "execute_result",
          "data": {
            "text/plain": [
              "[2, 3]"
            ]
          },
          "metadata": {},
          "execution_count": 27
        }
      ]
    },
    {
      "cell_type": "code",
      "source": [
        "lista_de_primos(6)"
      ],
      "metadata": {
        "colab": {
          "base_uri": "https://localhost:8080/"
        },
        "id": "_REdrOq4M3XV",
        "outputId": "2992b9f1-3620-4589-a20d-d77251d7dadf"
      },
      "id": "_REdrOq4M3XV",
      "execution_count": 28,
      "outputs": [
        {
          "output_type": "execute_result",
          "data": {
            "text/plain": [
              "[2, 3, 5]"
            ]
          },
          "metadata": {},
          "execution_count": 28
        }
      ]
    },
    {
      "cell_type": "code",
      "source": [
        "lista_de_primos(8)"
      ],
      "metadata": {
        "colab": {
          "base_uri": "https://localhost:8080/"
        },
        "id": "97MtGlZwM5bY",
        "outputId": "cbdb3c5e-7387-4653-8179-8dff0c6c888a"
      },
      "id": "97MtGlZwM5bY",
      "execution_count": 29,
      "outputs": [
        {
          "output_type": "execute_result",
          "data": {
            "text/plain": [
              "[2, 3, 5, 7]"
            ]
          },
          "metadata": {},
          "execution_count": 29
        }
      ]
    },
    {
      "cell_type": "code",
      "source": [
        "lista_de_primos(7)"
      ],
      "metadata": {
        "colab": {
          "base_uri": "https://localhost:8080/"
        },
        "id": "BC2XkVJXAr_q",
        "outputId": "aa5f2ad6-7c26-4265-937c-ebfb267932d4"
      },
      "id": "BC2XkVJXAr_q",
      "execution_count": 30,
      "outputs": [
        {
          "output_type": "execute_result",
          "data": {
            "text/plain": [
              "[2, 3, 5, 7]"
            ]
          },
          "metadata": {},
          "execution_count": 30
        }
      ]
    },
    {
      "cell_type": "code",
      "source": [
        "def goldbach(n):\n",
        "  if n%2!=0:\n",
        "    print(\"El número no es par\")\n",
        "    return\n",
        "  for k in lista_de_primos(n):\n",
        "    for i in lista_de_primos(n):\n",
        "      if k+i==n:\n",
        "        return (k,i)"
      ],
      "metadata": {
        "id": "PgoGUpfxM7mo"
      },
      "id": "PgoGUpfxM7mo",
      "execution_count": 31,
      "outputs": []
    },
    {
      "cell_type": "code",
      "source": [
        "goldbach(4)\n"
      ],
      "metadata": {
        "colab": {
          "base_uri": "https://localhost:8080/"
        },
        "id": "pDkvpUcaE3k7",
        "outputId": "2823b999-24cb-4126-bbff-9bfa2b756836"
      },
      "id": "pDkvpUcaE3k7",
      "execution_count": 32,
      "outputs": [
        {
          "output_type": "execute_result",
          "data": {
            "text/plain": [
              "(2, 2)"
            ]
          },
          "metadata": {},
          "execution_count": 32
        }
      ]
    },
    {
      "cell_type": "code",
      "source": [
        "goldbach(6)"
      ],
      "metadata": {
        "colab": {
          "base_uri": "https://localhost:8080/"
        },
        "id": "ClKieKHGE4A3",
        "outputId": "bfe81f0f-2388-44f5-d8c8-5230aae8514a"
      },
      "id": "ClKieKHGE4A3",
      "execution_count": 33,
      "outputs": [
        {
          "output_type": "execute_result",
          "data": {
            "text/plain": [
              "(3, 3)"
            ]
          },
          "metadata": {},
          "execution_count": 33
        }
      ]
    },
    {
      "cell_type": "code",
      "source": [
        "goldbach(16)"
      ],
      "metadata": {
        "colab": {
          "base_uri": "https://localhost:8080/"
        },
        "id": "nHEl0fuzE_RT",
        "outputId": "21fc3861-1d6c-4602-8bba-af4ad9d466a8"
      },
      "id": "nHEl0fuzE_RT",
      "execution_count": 34,
      "outputs": [
        {
          "output_type": "execute_result",
          "data": {
            "text/plain": [
              "(3, 13)"
            ]
          },
          "metadata": {},
          "execution_count": 34
        }
      ]
    },
    {
      "cell_type": "code",
      "source": [
        "goldbach(17)"
      ],
      "metadata": {
        "id": "AZ4MUVieaOlp",
        "outputId": "fdd64b09-65ec-4161-eb07-2cd83d4f9d40",
        "colab": {
          "base_uri": "https://localhost:8080/"
        }
      },
      "id": "AZ4MUVieaOlp",
      "execution_count": 35,
      "outputs": [
        {
          "output_type": "stream",
          "name": "stdout",
          "text": [
            "El número no es par\n"
          ]
        }
      ]
    }
  ],
  "metadata": {
    "kernelspec": {
      "display_name": "Python 3 (ipykernel)",
      "language": "python",
      "name": "python3"
    },
    "language_info": {
      "codemirror_mode": {
        "name": "ipython",
        "version": 3
      },
      "file_extension": ".py",
      "mimetype": "text/x-python",
      "name": "python",
      "nbconvert_exporter": "python",
      "pygments_lexer": "ipython3",
      "version": "3.10.11"
    },
    "colab": {
      "provenance": []
    }
  },
  "nbformat": 4,
  "nbformat_minor": 5
}